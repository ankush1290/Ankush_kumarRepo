{
 "cells": [
  {
   "cell_type": "code",
   "execution_count": 2,
   "id": "c9ee6bae",
   "metadata": {},
   "outputs": [],
   "source": [
    "import numpy as np # linear algebra\n",
    "import pandas as pd # data processing, CSV file I/O (e.g. pd.read_csv)\n",
    "\n",
    "# Input data files are available in the read-only \"../input/\" directory\n",
    "# For example, running this (by clicking run or pressing Shift+Enter) will list all files under the input directory\n",
    "\n",
    "import os\n",
    "for dirname, _, filenames in os.walk('/kaggle/input'):\n",
    "    for filename in filenames:\n",
    "        print(os.path.join(dirname, filename))\n"
   ]
  },
  {
   "cell_type": "code",
   "execution_count": 3,
   "id": "4f712d92",
   "metadata": {},
   "outputs": [],
   "source": [
    "import random\n",
    "import csv\n",
    "def g_0(n):\n",
    "    return (\"?\",)*n\n",
    "\n",
    "def s_0(n):\n",
    "    return ('0',)*n"
   ]
  },
  {
   "cell_type": "code",
   "execution_count": 4,
   "id": "7a4c0c91",
   "metadata": {},
   "outputs": [
    {
     "data": {
      "text/plain": [
       "[(1, 3), (2, 4), (3, 5)]"
      ]
     },
     "execution_count": 4,
     "metadata": {},
     "output_type": "execute_result"
    }
   ],
   "source": [
    "def more_general(h1, h2):\n",
    "    more_general_parts = []\n",
    "    for x, y in zip(h1, h2):\n",
    "        mg = x == \"?\" or (x != \"0\" and (x == y or y == \"0\"))\n",
    "        more_general_parts.append(mg)\n",
    "    return all(more_general_parts)\n",
    "\n",
    "l1 = [1, 2, 3]\n",
    "l2 = [3, 4, 5]\n",
    "\n",
    "list(zip(l1, l2))"
   ]
  },
  {
   "cell_type": "code",
   "execution_count": 5,
   "id": "ac558465",
   "metadata": {},
   "outputs": [
    {
     "data": {
      "text/plain": [
       "[('rainy', 'windy', '?')]"
      ]
     },
     "execution_count": 5,
     "metadata": {},
     "output_type": "execute_result"
    }
   ],
   "source": [
    "def fulfills(example, hypothesis):\n",
    "    ### the implementation is the same as for hypotheses:\n",
    "    return more_general(hypothesis, example)\n",
    "\n",
    "def min_generalizations(h, x):\n",
    "    h_new = list(h)\n",
    "    for i in range(len(h)):\n",
    "        if not fulfills(x[i:i+1], h[i:i+1]):\n",
    "            h_new[i] = '?' if h[i] != '0' else x[i]\n",
    "    return [tuple(h_new)]\n",
    "min_generalizations(h=('0', '0'  , 'sunny'), \n",
    "                    x=('rainy', 'windy', 'cloudy'))"
   ]
  },
  {
   "cell_type": "code",
   "execution_count": 6,
   "id": "5b6fd026",
   "metadata": {},
   "outputs": [
    {
     "data": {
      "text/plain": [
       "[('a', 'x'), ('c', 'x'), ('?', '0')]"
      ]
     },
     "execution_count": 6,
     "metadata": {},
     "output_type": "execute_result"
    }
   ],
   "source": [
    "def min_specializations(h, domains, x):\n",
    "    results = []\n",
    "    for i in range(len(h)):\n",
    "        if h[i] == \"?\":\n",
    "            for val in domains[i]:\n",
    "                if x[i] != val:\n",
    "                    h_new = h[:i] + (val,) + h[i+1:]\n",
    "                    results.append(h_new)\n",
    "        elif h[i] != \"0\":\n",
    "            h_new = h[:i] + ('0',) + h[i+1:]\n",
    "            results.append(h_new)\n",
    "    return results\n",
    "min_specializations(h=('?', 'x',), \n",
    "                    domains=[['a', 'b', 'c'], ['x', 'y']], \n",
    "                    x=('b', 'x'))"
   ]
  },
  {
   "cell_type": "code",
   "execution_count": 8,
   "id": "a31c2329",
   "metadata": {},
   "outputs": [
    {
     "ename": "FileNotFoundError",
     "evalue": "[Errno 2] No such file or directory: '../input/wscecsv/wsce.csv'",
     "output_type": "error",
     "traceback": [
      "\u001b[1;31m---------------------------------------------------------------------------\u001b[0m",
      "\u001b[1;31mFileNotFoundError\u001b[0m                         Traceback (most recent call last)",
      "Input \u001b[1;32mIn [8]\u001b[0m, in \u001b[0;36m<cell line: 1>\u001b[1;34m()\u001b[0m\n\u001b[1;32m----> 1\u001b[0m \u001b[38;5;28;01mwith\u001b[39;00m \u001b[38;5;28;43mopen\u001b[39;49m\u001b[43m(\u001b[49m\u001b[38;5;124;43m'\u001b[39;49m\u001b[38;5;124;43m../input/wscecsv/wsce.csv\u001b[39;49m\u001b[38;5;124;43m'\u001b[39;49m\u001b[43m)\u001b[49m  \u001b[38;5;28;01mas\u001b[39;00m csvFile:\n\u001b[0;32m      2\u001b[0m         examples \u001b[38;5;241m=\u001b[39m [\u001b[38;5;28mtuple\u001b[39m(line) \u001b[38;5;28;01mfor\u001b[39;00m line \u001b[38;5;129;01min\u001b[39;00m csv\u001b[38;5;241m.\u001b[39mreader(csvFile)]\n\u001b[0;32m      4\u001b[0m \u001b[38;5;66;03m#examples = [('sunny', 'warm', 'normal', 'strong', 'warm', 'same',True),\u001b[39;00m\n\u001b[0;32m      5\u001b[0m \u001b[38;5;66;03m# ('sunny', 'warm', 'high', 'strong', 'warm', 'same',True),\u001b[39;00m\n\u001b[0;32m      6\u001b[0m \u001b[38;5;66;03m# ('rainy', 'cold', 'high', 'strong', 'warm', 'change',False),\u001b[39;00m\n\u001b[0;32m      7\u001b[0m \u001b[38;5;66;03m# ('sunny', 'warm', 'high', 'strong', 'cool', 'change',True)]\u001b[39;00m\n",
      "\u001b[1;31mFileNotFoundError\u001b[0m: [Errno 2] No such file or directory: '../input/wscecsv/wsce.csv'"
     ]
    }
   ],
   "source": [
    "with open('../input/wscecsv/wsce.csv')  as csvFile:\n",
    "        examples = [tuple(line) for line in csv.reader(csvFile)]\n",
    "\n",
    "#examples = [('sunny', 'warm', 'normal', 'strong', 'warm', 'same',True),\n",
    "# ('sunny', 'warm', 'high', 'strong', 'warm', 'same',True),\n",
    "# ('rainy', 'cold', 'high', 'strong', 'warm', 'change',False),\n",
    "# ('sunny', 'warm', 'high', 'strong', 'cool', 'change',True)]\n",
    "\n",
    "examples"
   ]
  },
  {
   "cell_type": "code",
   "execution_count": 9,
   "id": "cd19a3a3",
   "metadata": {},
   "outputs": [
    {
     "ename": "NameError",
     "evalue": "name 'examples' is not defined",
     "output_type": "error",
     "traceback": [
      "\u001b[1;31m---------------------------------------------------------------------------\u001b[0m",
      "\u001b[1;31mNameError\u001b[0m                                 Traceback (most recent call last)",
      "Input \u001b[1;32mIn [9]\u001b[0m, in \u001b[0;36m<cell line: 8>\u001b[1;34m()\u001b[0m\n\u001b[0;32m      5\u001b[0m             d[i]\u001b[38;5;241m.\u001b[39madd(xi)\n\u001b[0;32m      6\u001b[0m     \u001b[38;5;28;01mreturn\u001b[39;00m [\u001b[38;5;28mlist\u001b[39m(\u001b[38;5;28msorted\u001b[39m(x)) \u001b[38;5;28;01mfor\u001b[39;00m x \u001b[38;5;129;01min\u001b[39;00m d]\n\u001b[1;32m----> 8\u001b[0m get_domains(\u001b[43mexamples\u001b[49m)\n",
      "\u001b[1;31mNameError\u001b[0m: name 'examples' is not defined"
     ]
    }
   ],
   "source": [
    "def get_domains(examples):\n",
    "    d = [set() for i in examples[0]]\n",
    "    for x in examples:\n",
    "        for i, xi in enumerate(x):\n",
    "            d[i].add(xi)\n",
    "    return [list(sorted(x)) for x in d]\n",
    "\n",
    "get_domains(examples)"
   ]
  },
  {
   "cell_type": "code",
   "execution_count": 10,
   "id": "013f40d3",
   "metadata": {},
   "outputs": [],
   "source": [
    "def candidate_elimination(examples):\n",
    "    domains = get_domains(examples)[:-1]\n",
    "    \n",
    "    G = set([g_0(len(domains))])\n",
    "    S = set([s_0(len(domains))])\n",
    "    i=0\n",
    "    print(\"\\n G[{0}]:\".format(i),G)\n",
    "    print(\"\\n S[{0}]:\".format(i),S)\n",
    "    for xcx in examples:\n",
    "        i=i+1\n",
    "        x, cx = xcx[:-1], xcx[-1]  # Splitting data into attributes and decisions\n",
    "        if cx=='Y': # x is positive example\n",
    "            G = {g for g in G if fulfills(x, g)}\n",
    "            S = generalize_S(x, G, S)\n",
    "        else: # x is negative example\n",
    "            S = {s for s in S if not fulfills(x, s)}\n",
    "            G = specialize_G(x, domains, G, S)\n",
    "        print(\"\\n G[{0}]:\".format(i),G)\n",
    "        print(\"\\n S[{0}]:\".format(i),S)\n",
    "    return"
   ]
  },
  {
   "cell_type": "code",
   "execution_count": 11,
   "id": "8353afb9",
   "metadata": {},
   "outputs": [],
   "source": [
    "def generalize_S(x, G, S):\n",
    "    S_prev = list(S)\n",
    "    for s in S_prev:\n",
    "        if s not in S:\n",
    "            continue\n",
    "        if not fulfills(x, s):\n",
    "            S.remove(s)\n",
    "            Splus = min_generalizations(s, x)\n",
    "            ## keep only generalizations that have a counterpart in G\n",
    "            S.update([h for h in Splus if any([more_general(g,h) \n",
    "                                               for g in G])])\n",
    "            ## remove hypotheses less specific than any other in S\n",
    "            S.difference_update([h for h in S if \n",
    "                                 any([more_general(h, h1) \n",
    "                                      for h1 in S if h != h1])])\n",
    "    return S"
   ]
  },
  {
   "cell_type": "code",
   "execution_count": 12,
   "id": "a64e0a55",
   "metadata": {},
   "outputs": [],
   "source": [
    "def specialize_G(x, domains, G, S):\n",
    "    G_prev = list(G)\n",
    "    for g in G_prev:\n",
    "        if g not in G:\n",
    "            continue\n",
    "        if fulfills(x, g):\n",
    "            G.remove(g)\n",
    "            Gminus = min_specializations(g, domains, x)\n",
    "            ## keep only specializations that have a conuterpart in S\n",
    "            G.update([h for h in Gminus if any([more_general(h, s)\n",
    "                                                for s in S])])\n",
    "            ## remove hypotheses less general than any other in G\n",
    "            G.difference_update([h for h in G if \n",
    "                                 any([more_general(g1, h) \n",
    "                                      for g1 in G if h != g1])])\n",
    "    return G"
   ]
  },
  {
   "cell_type": "code",
   "execution_count": 13,
   "id": "69fef0e6",
   "metadata": {},
   "outputs": [
    {
     "ename": "NameError",
     "evalue": "name 'examples' is not defined",
     "output_type": "error",
     "traceback": [
      "\u001b[1;31m---------------------------------------------------------------------------\u001b[0m",
      "\u001b[1;31mNameError\u001b[0m                                 Traceback (most recent call last)",
      "Input \u001b[1;32mIn [13]\u001b[0m, in \u001b[0;36m<cell line: 1>\u001b[1;34m()\u001b[0m\n\u001b[1;32m----> 1\u001b[0m candidate_elimination(\u001b[43mexamples\u001b[49m)\n",
      "\u001b[1;31mNameError\u001b[0m: name 'examples' is not defined"
     ]
    }
   ],
   "source": [
    "candidate_elimination(examples)"
   ]
  },
  {
   "cell_type": "code",
   "execution_count": null,
   "id": "d1d03f1a",
   "metadata": {},
   "outputs": [],
   "source": []
  }
 ],
 "metadata": {
  "kernelspec": {
   "display_name": "Python 3 (ipykernel)",
   "language": "python",
   "name": "python3"
  },
  "language_info": {
   "codemirror_mode": {
    "name": "ipython",
    "version": 3
   },
   "file_extension": ".py",
   "mimetype": "text/x-python",
   "name": "python",
   "nbconvert_exporter": "python",
   "pygments_lexer": "ipython3",
   "version": "3.9.12"
  }
 },
 "nbformat": 4,
 "nbformat_minor": 5
}
